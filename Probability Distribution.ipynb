{
 "cells": [
  {
   "cell_type": "code",
   "execution_count": 1,
   "id": "a9b70f59",
   "metadata": {},
   "outputs": [],
   "source": [
    "import scipy\n",
    "import numpy as np"
   ]
  },
  {
   "cell_type": "code",
   "execution_count": 2,
   "id": "2df95919",
   "metadata": {},
   "outputs": [],
   "source": [
    "from scipy.stats import binom"
   ]
  },
  {
   "cell_type": "markdown",
   "id": "cc7420db",
   "metadata": {},
   "source": [
    "A survey found that 65% of all financial consumers were very satisfied with their primary financial institution. Suppose that 25 financial consumers are sampled and if survey result still holds true today, what is the probability that exactly 19 are very satisfied with their primary financial institution?"
   ]
  },
  {
   "cell_type": "code",
   "execution_count": 3,
   "id": "a2e741ca",
   "metadata": {},
   "outputs": [
    {
     "name": "stdout",
     "output_type": "stream",
     "text": [
      "0.09077799859322791\n"
     ]
    }
   ],
   "source": [
    "print(binom.pmf(k=19,n=25,p=0.65))"
   ]
  },
  {
   "cell_type": "markdown",
   "id": "120d0c5c",
   "metadata": {},
   "source": [
    "According to the US Census bureau, approximately 6% of all workers in Jackson Missisippi are unemployed. In conducting a random telephone survey in jackson, what is the probability of getting two or fewer unemployed workers in a sample of 20."
   ]
  },
  {
   "cell_type": "markdown",
   "id": "2fac6483",
   "metadata": {},
   "source": [
    "Here two or less means = probability of 0 + p(1) + p(2)\n",
    "Therefore cumulative density function"
   ]
  },
  {
   "cell_type": "code",
   "execution_count": 4,
   "id": "d1f3dda3",
   "metadata": {},
   "outputs": [
    {
     "data": {
      "text/plain": [
       "0.8850275957378545"
      ]
     },
     "execution_count": 4,
     "metadata": {},
     "output_type": "execute_result"
    }
   ],
   "source": [
    "binom.cdf(2,20,0.06)"
   ]
  },
  {
   "cell_type": "markdown",
   "id": "cf535276",
   "metadata": {},
   "source": [
    "Solve the binomial probability for n=20, p=0.4 and x=10"
   ]
  },
  {
   "cell_type": "code",
   "execution_count": 5,
   "id": "9636320a",
   "metadata": {},
   "outputs": [
    {
     "name": "stdout",
     "output_type": "stream",
     "text": [
      "0.11714155053639011\n"
     ]
    }
   ],
   "source": [
    "print(binom.pmf(k=10,n=20,p=0.4))"
   ]
  },
  {
   "cell_type": "code",
   "execution_count": 6,
   "id": "e21ab357",
   "metadata": {},
   "outputs": [],
   "source": [
    "from scipy.stats import poisson"
   ]
  },
  {
   "cell_type": "code",
   "execution_count": 8,
   "id": "8fe0f1c0",
   "metadata": {},
   "outputs": [
    {
     "data": {
      "text/plain": [
       "0.18044704431548356"
      ]
     },
     "execution_count": 8,
     "metadata": {},
     "output_type": "execute_result"
    }
   ],
   "source": [
    "poisson.pmf(3,2)"
   ]
  },
  {
   "cell_type": "markdown",
   "id": "0d349191",
   "metadata": {},
   "source": [
    "Suppose bank customers arrive randomly on weekday afternoons at an average of 3.2 customers every 4 minutes. What is the probability of exactly 5 customers arriving in a 4-minute interval on a weekday afternoon?"
   ]
  },
  {
   "cell_type": "code",
   "execution_count": 9,
   "id": "60a3d466",
   "metadata": {},
   "outputs": [
    {
     "data": {
      "text/plain": [
       "0.11397938346351824"
      ]
     },
     "execution_count": 9,
     "metadata": {},
     "output_type": "execute_result"
    }
   ],
   "source": [
    "poisson.pmf(5,3.2)"
   ]
  },
  {
   "cell_type": "code",
   "execution_count": 10,
   "id": "e706fd55",
   "metadata": {},
   "outputs": [
    {
     "name": "stdout",
     "output_type": "stream",
     "text": [
      "Object `afternoon` not found.\n"
     ]
    }
   ],
   "source": [
    "Bank customers arrive randomly on weekday afternoons at an average of 3.2 customers every 4 minutes. What is the probability of having more than 7 customers in a 4-minute interval on a weekday afternoon?"
   ]
  },
  {
   "cell_type": "markdown",
   "id": "ef165a98",
   "metadata": {},
   "source": [
    "Bank customers arrive randomly on weekday afternoons at an average of 3.2 customers every 4 minutes. What is the probability of having more than 7 customers in a 4-minute interval on a weekday afternoon"
   ]
  },
  {
   "cell_type": "code",
   "execution_count": 11,
   "id": "3067f75c",
   "metadata": {},
   "outputs": [],
   "source": [
    "prob = poisson.cdf(7,3.2)"
   ]
  },
  {
   "cell_type": "code",
   "execution_count": 12,
   "id": "7c9c4255",
   "metadata": {},
   "outputs": [
    {
     "data": {
      "text/plain": [
       "0.01682984174895752"
      ]
     },
     "execution_count": 12,
     "metadata": {},
     "output_type": "execute_result"
    }
   ],
   "source": [
    "prob_more_than7 = 1-prob\n",
    "prob_more_than7"
   ]
  },
  {
   "cell_type": "markdown",
   "id": "353159d6",
   "metadata": {},
   "source": [
    "A bank has an average random arrival rate of 3.2 customers every 4-minutes. What is the probability of getting exactly 10 customer during an 8-minute interval"
   ]
  },
  {
   "cell_type": "markdown",
   "id": "9b99a23e",
   "metadata": {},
   "source": [
    "Unit is different that is 4 minute and 8 minute"
   ]
  },
  {
   "cell_type": "code",
   "execution_count": 14,
   "id": "8db19eaf",
   "metadata": {},
   "outputs": [
    {
     "data": {
      "text/plain": [
       "0.052790043854115495"
      ]
     },
     "execution_count": 14,
     "metadata": {},
     "output_type": "execute_result"
    }
   ],
   "source": [
    "poisson.pmf(10,6.4)"
   ]
  },
  {
   "cell_type": "markdown",
   "id": "332df395",
   "metadata": {},
   "source": [
    "Uniform Distribution"
   ]
  },
  {
   "cell_type": "markdown",
   "id": "1535cf45",
   "metadata": {},
   "source": [
    "Suppose the amount of time it takes to assemble a plastic module ranges from 27 to 39 seconds and that assembly times are uniformly distributed. Describe the distribution. What is the probability that a given assembly will take between 30 and 35 seconds"
   ]
  },
  {
   "cell_type": "code",
   "execution_count": 16,
   "id": "91269359",
   "metadata": {},
   "outputs": [
    {
     "data": {
      "text/plain": [
       "array([27, 28, 29, 30, 31, 32, 33, 34, 35, 36, 37, 38, 39])"
      ]
     },
     "execution_count": 16,
     "metadata": {},
     "output_type": "execute_result"
    }
   ],
   "source": [
    "U=np.arange(27,40,1)\n",
    "U"
   ]
  },
  {
   "cell_type": "code",
   "execution_count": 17,
   "id": "3e0f14de",
   "metadata": {},
   "outputs": [
    {
     "data": {
      "text/plain": [
       "33.0"
      ]
     },
     "execution_count": 17,
     "metadata": {},
     "output_type": "execute_result"
    }
   ],
   "source": [
    "from scipy.stats import uniform\n",
    "uniform.mean(loc=27,scale=12)"
   ]
  },
  {
   "cell_type": "code",
   "execution_count": 19,
   "id": "69985c45",
   "metadata": {},
   "outputs": [
    {
     "data": {
      "text/plain": [
       "array([0.25      , 0.33333333, 0.41666667, 0.5       , 0.58333333,\n",
       "       0.66666667])"
      ]
     },
     "execution_count": 19,
     "metadata": {},
     "output_type": "execute_result"
    }
   ],
   "source": [
    "uniform.cdf(np.arange(30,36,1), loc=27, scale=12)"
   ]
  },
  {
   "cell_type": "markdown",
   "id": "8c176db5",
   "metadata": {},
   "source": [
    "p(35) = 0.66666667 p(30)=0.25\n",
    "p(between 30 and 35) = 0.66666667-0.25"
   ]
  },
  {
   "cell_type": "code",
   "execution_count": 20,
   "id": "1fb72eab",
   "metadata": {},
   "outputs": [],
   "source": [
    "Prob = 0.66666667-0.25"
   ]
  },
  {
   "cell_type": "code",
   "execution_count": 22,
   "id": "bfee00e6",
   "metadata": {},
   "outputs": [
    {
     "data": {
      "text/plain": [
       "0.41666667"
      ]
     },
     "execution_count": 22,
     "metadata": {},
     "output_type": "execute_result"
    }
   ],
   "source": [
    "Prob"
   ]
  },
  {
   "cell_type": "markdown",
   "id": "15de3e2f",
   "metadata": {},
   "source": [
    "According to the National Association of Insurance Commissioners, the average annual cost for automobile insurance in the United States in a recent year was 691 . Suppose automobile insurance costs are uniformly distributed in the united states with arange of from 1,182 . What is the standard deviation of this uniform distribution"
   ]
  },
  {
   "cell_type": "code",
   "execution_count": 23,
   "id": "3b9d1f5b",
   "metadata": {},
   "outputs": [
    {
     "data": {
      "text/plain": [
       "691.0"
      ]
     },
     "execution_count": 23,
     "metadata": {},
     "output_type": "execute_result"
    }
   ],
   "source": [
    "uniform.mean(loc=200, scale=982)"
   ]
  },
  {
   "cell_type": "code",
   "execution_count": 25,
   "id": "4df8915a",
   "metadata": {},
   "outputs": [
    {
     "data": {
      "text/plain": [
       "283.4789821721062"
      ]
     },
     "execution_count": 25,
     "metadata": {},
     "output_type": "execute_result"
    }
   ],
   "source": [
    "uniform.std(loc=200, scale=982)"
   ]
  },
  {
   "cell_type": "code",
   "execution_count": 27,
   "id": "b9552a4f",
   "metadata": {},
   "outputs": [],
   "source": [
    "from scipy.stats import norm"
   ]
  },
  {
   "cell_type": "markdown",
   "id": "bd8a6870",
   "metadata": {},
   "source": [
    "What is the probability of obtaining a score greater than 700 on a GMAT test that has a mean of 494 and a standard deviation of 100? Assume GMAT scores are normally distributed"
   ]
  },
  {
   "cell_type": "markdown",
   "id": "c3d51cc3",
   "metadata": {},
   "source": [
    "p(x>700 | m=494 and s=100)=?"
   ]
  },
  {
   "cell_type": "code",
   "execution_count": 28,
   "id": "11d9858c",
   "metadata": {},
   "outputs": [
    {
     "name": "stdout",
     "output_type": "stream",
     "text": [
      "0.019699270409376912\n"
     ]
    }
   ],
   "source": [
    "print(1-norm.cdf(700,494,100))"
   ]
  },
  {
   "cell_type": "markdown",
   "id": "a5f0a47d",
   "metadata": {},
   "source": [
    "For the same GMAT examination, what is te probability of randomly drawing a score that is 550 or less?"
   ]
  },
  {
   "cell_type": "code",
   "execution_count": 29,
   "id": "ca1f60b9",
   "metadata": {},
   "outputs": [
    {
     "name": "stdout",
     "output_type": "stream",
     "text": [
      "0.712260281150973\n"
     ]
    }
   ],
   "source": [
    "print(norm.cdf(550,494,100))"
   ]
  },
  {
   "cell_type": "markdown",
   "id": "63842eae",
   "metadata": {},
   "source": [
    "What is the probability of randomly obtaining a score between 300 and 600 on the GMAT exam?"
   ]
  },
  {
   "cell_type": "code",
   "execution_count": 30,
   "id": "3ef86a80",
   "metadata": {},
   "outputs": [
    {
     "name": "stdout",
     "output_type": "stream",
     "text": [
      "0.8292378553956377\n"
     ]
    }
   ],
   "source": [
    "print(norm.cdf(600,494,100)-norm.cdf(300,494,100))"
   ]
  },
  {
   "cell_type": "markdown",
   "id": "00d3ec05",
   "metadata": {},
   "source": [
    "What is the probability of getting a score between 350 and 450 on the same GMAT exam?"
   ]
  },
  {
   "cell_type": "code",
   "execution_count": 31,
   "id": "615b921b",
   "metadata": {},
   "outputs": [
    {
     "name": "stdout",
     "output_type": "stream",
     "text": [
      "0.2550348541262666\n"
     ]
    }
   ],
   "source": [
    "print(norm.cdf(450,494,100)-norm.cdf(350,494,100))"
   ]
  },
  {
   "cell_type": "code",
   "execution_count": 32,
   "id": "663ac9f6",
   "metadata": {},
   "outputs": [
    {
     "data": {
      "text/plain": [
       "1.6448536269514722"
      ]
     },
     "execution_count": 32,
     "metadata": {},
     "output_type": "execute_result"
    }
   ],
   "source": [
    "norm.ppf(0.95)"
   ]
  },
  {
   "cell_type": "markdown",
   "id": "384eaddd",
   "metadata": {},
   "source": [
    "Above solution means area under 0.95, gives right-side area"
   ]
  },
  {
   "cell_type": "markdown",
   "id": "142baee5",
   "metadata": {},
   "source": [
    "For left side area"
   ]
  },
  {
   "cell_type": "code",
   "execution_count": 36,
   "id": "ec4bf6b8",
   "metadata": {},
   "outputs": [
    {
     "data": {
      "text/plain": [
       "-0.45988328292440145"
      ]
     },
     "execution_count": 36,
     "metadata": {},
     "output_type": "execute_result"
    }
   ],
   "source": [
    "norm.ppf(1-.6772)"
   ]
  },
  {
   "cell_type": "markdown",
   "id": "f889203a",
   "metadata": {},
   "source": [
    "# HyperGeometric Distribution"
   ]
  },
  {
   "cell_type": "markdown",
   "id": "318549e1",
   "metadata": {},
   "source": [
    "Suppose 18 major computer companies operate in the United States and that 12 are located in Caalifornia's Silicon Valley. If three computer companies are selected randomly from the entire list, what is the probability that one or more of the selected companies are loicated in Silicon Valley"
   ]
  },
  {
   "cell_type": "code",
   "execution_count": 37,
   "id": "c3d861ea",
   "metadata": {},
   "outputs": [],
   "source": [
    "from scipy.stats import hypergeom"
   ]
  },
  {
   "cell_type": "code",
   "execution_count": 38,
   "id": "c2b49f90",
   "metadata": {},
   "outputs": [],
   "source": [
    "pval=hypergeom.sf(0,18,3,12)"
   ]
  },
  {
   "cell_type": "code",
   "execution_count": 39,
   "id": "5472e259",
   "metadata": {},
   "outputs": [
    {
     "data": {
      "text/plain": [
       "0.9754901960784306"
      ]
     },
     "execution_count": 39,
     "metadata": {},
     "output_type": "execute_result"
    }
   ],
   "source": [
    "pval"
   ]
  },
  {
   "cell_type": "markdown",
   "id": "6445601b",
   "metadata": {},
   "source": [
    "sf = survable function"
   ]
  },
  {
   "cell_type": "code",
   "execution_count": null,
   "id": "434450f2",
   "metadata": {},
   "outputs": [],
   "source": []
  }
 ],
 "metadata": {
  "kernelspec": {
   "display_name": "Python 3",
   "language": "python",
   "name": "python3"
  },
  "language_info": {
   "codemirror_mode": {
    "name": "ipython",
    "version": 3
   },
   "file_extension": ".py",
   "mimetype": "text/x-python",
   "name": "python",
   "nbconvert_exporter": "python",
   "pygments_lexer": "ipython3",
   "version": "3.8.8"
  }
 },
 "nbformat": 4,
 "nbformat_minor": 5
}
